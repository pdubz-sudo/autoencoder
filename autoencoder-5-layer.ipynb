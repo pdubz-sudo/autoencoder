{
 "cells": [
  {
   "cell_type": "code",
   "execution_count": 2,
   "metadata": {},
   "outputs": [
    {
     "name": "stderr",
     "output_type": "stream",
     "text": [
      "Using TensorFlow backend.\n"
     ]
    }
   ],
   "source": [
    "from keras.layers import Input, Dense\n",
    "from keras import regularizers\n",
    "from keras.models import Model\n",
    "from keras.datasets import mnist\n",
    "import numpy as np\n",
    "import pandas as pd\n",
    "import matplotlib.pyplot as plt\n",
    "%matplotlib inline"
   ]
  },
  {
   "cell_type": "code",
   "execution_count": 3,
   "metadata": {},
   "outputs": [
    {
     "data": {
      "text/plain": [
       "(10722, 6)"
      ]
     },
     "execution_count": 3,
     "metadata": {},
     "output_type": "execute_result"
    }
   ],
   "source": [
    "file = r'carbon_nanotubes.csv'\n",
    "df = pd.read_csv(file, delimiter=';', header=None, decimal=',')\n",
    "x_train = df.drop([0,1], axis=1).values\n",
    "x_train.shape"
   ]
  },
  {
   "cell_type": "code",
   "execution_count": 4,
   "metadata": {},
   "outputs": [
    {
     "name": "stdout",
     "output_type": "stream",
     "text": [
      "Downloading data from https://s3.amazonaws.com/img-datasets/mnist.npz\n",
      "11468800/11490434 [============================>.] - ETA: 0s(60000, 784)\n",
      "(10000, 784)\n"
     ]
    }
   ],
   "source": [
    "# # sanity check to make sure it works\n",
    "\n",
    "# from keras.datasets import mnist\n",
    "# import numpy as np\n",
    "# (x_train, _), (x_test, _) = mnist.load_data()\n",
    "\n",
    "# x_train = x_train.astype('float32') / 255.\n",
    "# x_test = x_test.astype('float32') / 255.\n",
    "# x_train = x_train.reshape((len(x_train), np.prod(x_train.shape[1:])))\n",
    "# x_test = x_test.reshape((len(x_test), np.prod(x_test.shape[1:])))\n",
    "# print(x_train.shape)\n",
    "# print(x_test.shape)"
   ]
  },
  {
   "cell_type": "markdown",
   "metadata": {},
   "source": [
    "![title](img/multi.png)"
   ]
  },
  {
   "cell_type": "code",
   "execution_count": 8,
   "metadata": {
    "collapsed": true
   },
   "outputs": [],
   "source": [
    "input_size = 6\n",
    "hidden_size = 4\n",
    "coded_size = 3\n",
    "\n",
    "x = Input(shape=(input_size,))\n",
    "hidden_1 = Dense(hidden_size, activation='relu')(x)\n",
    "coded =Dense(coded_size, activation='relu')(hidden_1)\n",
    "hidden_2 = Dense(hidden_size, activation='relu')(coded)\n",
    "r = Dense(input_size, activation='sigmoid')(hidden_2)\n",
    "\n",
    "autoencoder = Model(inputs=x, outputs=r)\n",
    "encoder = Model(inputs=x, outputs=coded)\n",
    "\n",
    "### create model to decoder\n",
    "# retrieve the last layer of the autoencoder model. This the latent vector already IT.\n",
    "# just have to add a shape IT. \n",
    "decoder_input = Input(shape=(coded_size,))\n",
    "next_input = decoder_input\n",
    "\n",
    "# the next_input keeps looping getting carried into the next layer as the data vector IT.\n",
    "for layer in autoencoder.layers[-2:]:\n",
    "    next_input = layer(next_input)\n",
    "    \n",
    "decoder = Model(inputs=decoder_input, outputs=next_input)"
   ]
  },
  {
   "cell_type": "code",
   "execution_count": 9,
   "metadata": {},
   "outputs": [
    {
     "name": "stdout",
     "output_type": "stream",
     "text": [
      "Epoch 1/20\n",
      "10721/10721 [==============================] - 0s 43us/step - loss: 0.0846\n",
      "Epoch 2/20\n",
      "10721/10721 [==============================] - 0s 15us/step - loss: 0.0833\n",
      "Epoch 3/20\n",
      "10721/10721 [==============================] - 0s 16us/step - loss: 0.0826\n",
      "Epoch 4/20\n",
      "10721/10721 [==============================] - 0s 14us/step - loss: 0.0799\n",
      "Epoch 5/20\n",
      "10721/10721 [==============================] - 0s 15us/step - loss: 0.0745\n",
      "Epoch 6/20\n",
      "10721/10721 [==============================] - 0s 15us/step - loss: 0.0688\n",
      "Epoch 7/20\n",
      "10721/10721 [==============================] - 0s 15us/step - loss: 0.0642\n",
      "Epoch 8/20\n",
      "10721/10721 [==============================] - 0s 15us/step - loss: 0.0606\n",
      "Epoch 9/20\n",
      "10721/10721 [==============================] - 0s 15us/step - loss: 0.0579\n",
      "Epoch 10/20\n",
      "10721/10721 [==============================] - 0s 14us/step - loss: 0.0557\n",
      "Epoch 11/20\n",
      "10721/10721 [==============================] - 0s 14us/step - loss: 0.0539\n",
      "Epoch 12/20\n",
      "10721/10721 [==============================] - 0s 14us/step - loss: 0.0523\n",
      "Epoch 13/20\n",
      "10721/10721 [==============================] - 0s 14us/step - loss: 0.0510\n",
      "Epoch 14/20\n",
      "10721/10721 [==============================] - 0s 14us/step - loss: 0.0499\n",
      "Epoch 15/20\n",
      "10721/10721 [==============================] - 0s 15us/step - loss: 0.0490\n",
      "Epoch 16/20\n",
      "10721/10721 [==============================] - 0s 14us/step - loss: 0.0482\n",
      "Epoch 17/20\n",
      "10721/10721 [==============================] - 0s 15us/step - loss: 0.0475\n",
      "Epoch 18/20\n",
      "10721/10721 [==============================] - ETA: 0s - loss: 0.046 - 0s 15us/step - loss: 0.0469\n",
      "Epoch 19/20\n",
      "10721/10721 [==============================] - 0s 13us/step - loss: 0.0464\n",
      "Epoch 20/20\n",
      "10721/10721 [==============================] - 0s 15us/step - loss: 0.0459\n"
     ]
    }
   ],
   "source": [
    "autoencoder.compile(optimizer='adam', loss='mse')\n",
    "\n",
    "epochs=20\n",
    "batch_size=256\n",
    "\n",
    "fitted_history = autoencoder.fit(x_train, x_train,\n",
    "                epochs=epochs,\n",
    "                batch_size=batch_size,\n",
    "                shuffle=True)"
   ]
  },
  {
   "cell_type": "code",
   "execution_count": 10,
   "metadata": {},
   "outputs": [
    {
     "name": "stdout",
     "output_type": "stream",
     "text": [
      "dict_keys(['loss'])\n"
     ]
    },
    {
     "data": {
      "text/plain": [
       "<matplotlib.legend.Legend at 0x1c9fe0adc18>"
      ]
     },
     "execution_count": 10,
     "metadata": {},
     "output_type": "execute_result"
    },
    {
     "data": {
      "image/png": "[encoded data removed]",
      "text/plain": [
       "<Figure size 432x288 with 1 Axes>"
      ]
     },
     "metadata": {
      "needs_background": "light"
     },
     "output_type": "display_data"
    }
   ],
   "source": [
    "print(fitted_history.history.keys())\n",
    "\n",
    "plt.plot(fitted_history.history['loss'])\n",
    "#plt.plot(fitted_history.history['val_loss'])\n",
    "plt.ylim(0,.25)\n",
    "plt.title('Loss and Val_loss plot (doing this whole val_loss does nothing for this project)')\n",
    "plt.xlabel('epoch')\n",
    "plt.ylabel('loss')\n",
    "plt.legend(['Val_Loss', 'Loss'])"
   ]
  },
  {
   "cell_type": "code",
   "execution_count": 11,
   "metadata": {
    "collapsed": true
   },
   "outputs": [],
   "source": [
    "# predictions\n",
    "encoded_train = encoder.predict(x_train)\n",
    "decoded_imgs = decoder.predict(encoded_train)"
   ]
  },
  {
   "cell_type": "code",
   "execution_count": 12,
   "metadata": {},
   "outputs": [
    {
     "data": {
      "image/png": "[encoded data removed]",
      "text/plain": [
       "<Figure size 1440x288 with 20 Axes>"
      ]
     },
     "metadata": {
      "needs_background": "light"
     },
     "output_type": "display_data"
    }
   ],
   "source": [
    "# sanity check when using the pictures dataset\n",
    "\n",
    "import matplotlib.pyplot as plt\n",
    "%matplotlib inline\n",
    "\n",
    "n = 10  # how many digits we will display\n",
    "plt.figure(figsize=(20, 4))\n",
    "for i in range(n):\n",
    "    # display original\n",
    "    ax = plt.subplot(2, n, i + 1)\n",
    "    plt.imshow(x_train[i].reshape(3, 2))\n",
    "    plt.gray()\n",
    "    ax.get_xaxis().set_visible(False)\n",
    "    ax.get_yaxis().set_visible(False)\n",
    "\n",
    "    # display reconstruction\n",
    "    ax = plt.subplot(2, n, i + 1 + n)\n",
    "    plt.imshow(decoded_imgs[i].reshape(3, 2))\n",
    "    plt.gray()\n",
    "    ax.get_xaxis().set_visible(False)\n",
    "    ax.get_yaxis().set_visible(False)\n",
    "plt.show()"
   ]
  },
  {
   "cell_type": "code",
   "execution_count": null,
   "metadata": {
    "collapsed": true
   },
   "outputs": [],
   "source": []
  },
  {
   "cell_type": "code",
   "execution_count": null,
   "metadata": {
    "collapsed": true
   },
   "outputs": [],
   "source": []
  },
  {
   "cell_type": "code",
   "execution_count": null,
   "metadata": {
    "collapsed": true
   },
   "outputs": [],
   "source": []
  },
  {
   "cell_type": "code",
   "execution_count": null,
   "metadata": {
    "collapsed": true
   },
   "outputs": [],
   "source": []
  },
  {
   "cell_type": "code",
   "execution_count": null,
   "metadata": {
    "collapsed": true
   },
   "outputs": [],
   "source": []
  },
  {
   "cell_type": "code",
   "execution_count": null,
   "metadata": {
    "collapsed": true
   },
   "outputs": [],
   "source": []
  },
  {
   "cell_type": "code",
   "execution_count": null,
   "metadata": {
    "collapsed": true
   },
   "outputs": [],
   "source": []
  },
  {
   "cell_type": "code",
   "execution_count": null,
   "metadata": {
    "collapsed": true
   },
   "outputs": [],
   "source": []
  },
  {
   "cell_type": "code",
   "execution_count": null,
   "metadata": {
    "collapsed": true
   },
   "outputs": [],
   "source": []
  },
  {
   "cell_type": "code",
   "execution_count": null,
   "metadata": {
    "collapsed": true
   },
   "outputs": [],
   "source": []
  },
  {
   "cell_type": "code",
   "execution_count": null,
   "metadata": {
    "collapsed": true
   },
   "outputs": [],
   "source": []
  },
  {
   "cell_type": "code",
   "execution_count": null,
   "metadata": {
    "collapsed": true
   },
   "outputs": [],
   "source": []
  },
  {
   "cell_type": "code",
   "execution_count": null,
   "metadata": {
    "collapsed": true
   },
   "outputs": [],
   "source": []
  },
  {
   "cell_type": "code",
   "execution_count": null,
   "metadata": {
    "collapsed": true
   },
   "outputs": [],
   "source": []
  },
  {
   "cell_type": "code",
   "execution_count": null,
   "metadata": {
    "collapsed": true
   },
   "outputs": [],
   "source": []
  },
  {
   "cell_type": "code",
   "execution_count": null,
   "metadata": {
    "collapsed": true
   },
   "outputs": [],
   "source": []
  }
 ],
 "metadata": {
  "kernelspec": {
   "display_name": "Python 3",
   "language": "python",
   "name": "python3"
  },
  "language_info": {
   "codemirror_mode": {
    "name": "ipython",
    "version": 3
   },
   "file_extension": ".py",
   "mimetype": "text/x-python",
   "name": "python",
   "nbconvert_exporter": "python",
   "pygments_lexer": "ipython3",
   "version": "3.6.2"
  }
 },
 "nbformat": 4,
 "nbformat_minor": 2
}
