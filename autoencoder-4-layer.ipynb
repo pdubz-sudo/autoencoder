{
 "cells": [
  {
   "cell_type": "code",
   "execution_count": 1,
   "metadata": {},
   "outputs": [
    {
     "name": "stderr",
     "output_type": "stream",
     "text": [
      "Using TensorFlow backend.\n"
     ]
    }
   ],
   "source": [
    "from keras.layers import Input, Dense\n",
    "from keras import regularizers\n",
    "from keras.models import Model\n",
    "from keras.datasets import mnist\n",
    "import numpy as np\n",
    "import pandas as pd\n",
    "import matplotlib.pyplot as plt\n",
    "%matplotlib inline"
   ]
  },
  {
   "cell_type": "code",
   "execution_count": 2,
   "metadata": {},
   "outputs": [
    {
     "name": "stdout",
     "output_type": "stream",
     "text": [
      "Shape of data : (10721, 6)\n"
     ]
    }
   ],
   "source": [
    "file = r'carbon_nanotubes.csv'\n",
    "df = pd.read_csv(file, delimiter=';', header=None, decimal=',', skiprows=1)\n",
    "x_train = df.drop([0,1], axis=1).values\n",
    "print('Shape of data :', x_train.shape)"
   ]
  },
  {
   "cell_type": "markdown",
   "metadata": {},
   "source": [
    "<img src=\"img/multi.png\" width=\"400\">"
   ]
  },
  {
   "cell_type": "code",
   "execution_count": 3,
   "metadata": {
    "collapsed": true
   },
   "outputs": [],
   "source": [
    "input_size = 6\n",
    "hidden_size = 4\n",
    "coded_size = 3\n",
    "\n",
    "x = Input(shape=(input_size,))\n",
    "hidden_1 = Dense(hidden_size, activation='relu')(x)\n",
    "coded = Dense(coded_size, activation='relu')(hidden_1)\n",
    "hidden_2 = Dense(hidden_size, activation='relu')(coded)\n",
    "r = Dense(input_size, activation='sigmoid')(hidden_2)\n",
    "\n",
    "autoencoder = Model(inputs=x, outputs=r)\n",
    "encoder = Model(inputs=x, outputs=coded)\n",
    "\n",
    "### create model to decoder\n",
    "# retrieve the last layer of the autoencoder model. This the latent vector already IT.\n",
    "# just have to add a shape IT. \n",
    "decoder_input = Input(shape=(coded_size,))\n",
    "next_input = decoder_input\n",
    "\n",
    "# the next_input keeps looping getting carried into the next layer as the data vector IT.\n",
    "for layer in autoencoder.layers[-2:]:\n",
    "    next_input = layer(next_input)\n",
    "    \n",
    "decoder = Model(inputs=decoder_input, outputs=next_input)\n",
    "\n",
    "# The loop above is the same as this\n",
    "# decoder_input= Input(shape=(coded_size, ))\n",
    "# next_input = decoder_input\n",
    "# next_input = autoencoder.layers[4](next_input)\n",
    "# next_input = autoencoder.layers[5](next_input)"
   ]
  },
  {
   "cell_type": "code",
   "execution_count": 15,
   "metadata": {},
   "outputs": [
    {
     "name": "stdout",
     "output_type": "stream",
     "text": [
      "layer 1\n",
      "layer 2\n",
      "layer 3\n",
      "layer 4\n",
      "layer 5\n"
     ]
    }
   ],
   "source": [
    "for i, layer in enumerate(autoencoder.layers):\n",
    "    print('layer', str(i+1))"
   ]
  },
  {
   "cell_type": "code",
   "execution_count": 24,
   "metadata": {},
   "outputs": [
    {
     "name": "stdout",
     "output_type": "stream",
     "text": [
      "Epoch 1/20\n",
      "10721/10721 [==============================] - 0s - loss: 0.0829     \n",
      "Epoch 2/20\n",
      "10721/10721 [==============================] - 0s - loss: 0.0807     \n",
      "Epoch 3/20\n",
      "10721/10721 [==============================] - 0s - loss: 0.0793     - ETA: 0s - loss: 0.07\n",
      "Epoch 4/20\n",
      "10721/10721 [==============================] - 0s - loss: 0.0773     \n",
      "Epoch 5/20\n",
      "10721/10721 [==============================] - 0s - loss: 0.0748     \n",
      "Epoch 6/20\n",
      "10721/10721 [==============================] - 0s - loss: 0.0718     \n",
      "Epoch 7/20\n",
      "10721/10721 [==============================] - 0s - loss: 0.0688     \n",
      "Epoch 8/20\n",
      "10721/10721 [==============================] - 0s - loss: 0.0663     \n",
      "Epoch 9/20\n",
      "10721/10721 [==============================] - 0s - loss: 0.0643     - ETA: 0s - loss: 0.06\n",
      "Epoch 10/20\n",
      "10721/10721 [==============================] - 0s - loss: 0.0628     \n",
      "Epoch 11/20\n",
      "10721/10721 [==============================] - 0s - loss: 0.0615     \n",
      "Epoch 12/20\n",
      "10721/10721 [==============================] - 0s - loss: 0.0600     \n",
      "Epoch 13/20\n",
      "10721/10721 [==============================] - 0s - loss: 0.0577     \n",
      "Epoch 14/20\n",
      "10721/10721 [==============================] - 0s - loss: 0.0533     \n",
      "Epoch 15/20\n",
      "10721/10721 [==============================] - 0s - loss: 0.0460     \n",
      "Epoch 16/20\n",
      "10721/10721 [==============================] - 0s - loss: 0.0383     \n",
      "Epoch 17/20\n",
      "10721/10721 [==============================] - 0s - loss: 0.0326     \n",
      "Epoch 18/20\n",
      "10721/10721 [==============================] - 0s - loss: 0.0287     \n",
      "Epoch 19/20\n",
      "10721/10721 [==============================] - 0s - loss: 0.0259     \n",
      "Epoch 20/20\n",
      "10721/10721 [==============================] - 0s - loss: 0.0239     \n"
     ]
    }
   ],
   "source": [
    "autoencoder.compile(optimizer='adam', loss='mse')\n",
    "\n",
    "epochs=20\n",
    "batch_size=256\n",
    "\n",
    "fitted_history = autoencoder.fit(x_train, x_train,\n",
    "                epochs=epochs,\n",
    "                batch_size=batch_size,\n",
    "                shuffle=True)"
   ]
  },
  {
   "cell_type": "code",
   "execution_count": 25,
   "metadata": {},
   "outputs": [
    {
     "name": "stdout",
     "output_type": "stream",
     "text": [
      "dict_keys(['loss'])\n"
     ]
    },
    {
     "data": {
      "text/plain": [
       "<matplotlib.legend.Legend at 0x2c382dd0320>"
      ]
     },
     "execution_count": 25,
     "metadata": {},
     "output_type": "execute_result"
    },
    {
     "data": {
      "image/png": "[encoded data removed]",
      "text/plain": [
       "<matplotlib.figure.Figure at 0x2c382dd03c8>"
      ]
     },
     "metadata": {},
     "output_type": "display_data"
    }
   ],
   "source": [
    "print(fitted_history.history.keys())\n",
    "\n",
    "plt.plot(fitted_history.history['loss'])\n",
    "#plt.plot(fitted_history.history['val_loss'])\n",
    "plt.ylim(0,.25)\n",
    "plt.title('Loss and Val_loss plot (doing this whole val_loss does nothing for this project)')\n",
    "plt.xlabel('epoch')\n",
    "plt.ylabel('loss')\n",
    "plt.legend(['Val_Loss', 'Loss'])"
   ]
  },
  {
   "cell_type": "code",
   "execution_count": 30,
   "metadata": {
    "collapsed": true
   },
   "outputs": [],
   "source": [
    "# predictions\n",
    "encoded_train = encoder.predict(x_train)\n",
    "decoded_train = decoder.predict(encoded_train)"
   ]
  },
  {
   "cell_type": "code",
   "execution_count": 37,
   "metadata": {},
   "outputs": [
    {
     "name": "stdout",
     "output_type": "stream",
     "text": [
      "Encoded shape:  (10721, 3)\n"
     ]
    },
    {
     "data": {
      "text/plain": [
       "array([[ 0.        ,  1.33457804,  0.        ],\n",
       "       [ 0.        ,  1.58578205,  0.        ],\n",
       "       [ 0.        ,  0.21957338,  0.        ],\n",
       "       ..., \n",
       "       [ 0.        ,  2.64420772,  2.35035133],\n",
       "       [ 0.        ,  2.93182325,  2.86340189],\n",
       "       [ 0.        ,  3.21503997,  2.88821411]], dtype=float32)"
      ]
     },
     "execution_count": 37,
     "metadata": {},
     "output_type": "execute_result"
    }
   ],
   "source": [
    "print('Encoded shape: ', encoded_train.shape)\n",
    "encoded_train"
   ]
  },
  {
   "cell_type": "code",
   "execution_count": 39,
   "metadata": {},
   "outputs": [
    {
     "name": "stdout",
     "output_type": "stream",
     "text": [
      "Decoded shape:  (10721, 6)\n"
     ]
    },
    {
     "data": {
      "text/plain": [
       "array([[ 0.61129248,  0.64068788,  0.29205966,  0.67006189,  0.69886672,\n",
       "         0.30492994],\n",
       "       [ 0.64508837,  0.69957143,  0.29259199,  0.72487271,  0.7603603 ,\n",
       "         0.31157023],\n",
       "       [ 0.47036543,  0.38339505,  0.28996396,  0.42092916,  0.40310389,\n",
       "         0.27951828],\n",
       "       ..., \n",
       "       [ 0.60919708,  0.73666322,  0.74667937,  0.69590068,  0.75378275,\n",
       "         0.75648952],\n",
       "       [ 0.60740298,  0.75423908,  0.82198638,  0.69955724,  0.7631833 ,\n",
       "         0.82910341],\n",
       "       [ 0.64116412,  0.80213416,  0.83012146,  0.75172657,  0.81599718,\n",
       "         0.84079194]], dtype=float32)"
      ]
     },
     "execution_count": 39,
     "metadata": {},
     "output_type": "execute_result"
    }
   ],
   "source": [
    "print('Decoded shape: ', decoded_train.shape)\n",
    "\n",
    "decoded_train"
   ]
  },
  {
   "cell_type": "markdown",
   "metadata": {},
   "source": [
    "# Using the MNIST Data Set "
   ]
  },
  {
   "cell_type": "code",
   "execution_count": 4,
   "metadata": {},
   "outputs": [
    {
     "name": "stdout",
     "output_type": "stream",
     "text": [
      "Downloading data from https://s3.amazonaws.com/img-datasets/mnist.npz\n",
      "11468800/11490434 [============================>.] - ETA: 0s(60000, 784)\n",
      "(10000, 784)\n"
     ]
    }
   ],
   "source": [
    "# # sanity check to make sure it works\n",
    "\n",
    "# from keras.datasets import mnist\n",
    "# import numpy as np\n",
    "# (x_train, _), (x_test, _) = mnist.load_data()\n",
    "\n",
    "# x_train = x_train.astype('float32') / 255.\n",
    "# x_test = x_test.astype('float32') / 255.\n",
    "# x_train = x_train.reshape((len(x_train), np.prod(x_train.shape[1:])))\n",
    "# x_test = x_test.reshape((len(x_test), np.prod(x_test.shape[1:])))\n",
    "# print(x_train.shape)\n",
    "# print(x_test.shape)"
   ]
  },
  {
   "cell_type": "code",
   "execution_count": 40,
   "metadata": {},
   "outputs": [
    {
     "data": {
      "image/png": "[encoded data removed]",
      "text/plain": [
       "<matplotlib.figure.Figure at 0x2c382e695f8>"
      ]
     },
     "metadata": {},
     "output_type": "display_data"
    }
   ],
   "source": [
    "# sanity check when using the pictures dataset\n",
    "# Visualizations of the coded representations.\n",
    "\n",
    "import matplotlib.pyplot as plt\n",
    "%matplotlib inline\n",
    "\n",
    "n = 10  # how many digits we will display\n",
    "plt.figure(figsize=(20, 4))\n",
    "for i in range(n):\n",
    "    # display original\n",
    "    ax = plt.subplot(2, n, i + 1)\n",
    "    plt.imshow(x_train[i].reshape(3, 2))\n",
    "    plt.gray()\n",
    "    ax.get_xaxis().set_visible(False)\n",
    "    ax.get_yaxis().set_visible(False)\n",
    "\n",
    "    # display reconstruction\n",
    "    ax = plt.subplot(2, n, i + 1 + n)\n",
    "    plt.imshow(decoded_imgs[i].reshape(3, 2))\n",
    "    plt.gray()\n",
    "    ax.get_xaxis().set_visible(False)\n",
    "    ax.get_yaxis().set_visible(False)\n",
    "plt.show()"
   ]
  }
 ],
 "metadata": {
  "kernelspec": {
   "display_name": "Python 3",
   "language": "python",
   "name": "python3"
  },
  "language_info": {
   "codemirror_mode": {
    "name": "ipython",
    "version": 3
   },
   "file_extension": ".py",
   "mimetype": "text/x-python",
   "name": "python",
   "nbconvert_exporter": "python",
   "pygments_lexer": "ipython3",
   "version": "3.6.2"
  }
 },
 "nbformat": 4,
 "nbformat_minor": 2
}
