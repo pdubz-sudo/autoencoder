{
 "cells": [
  {
   "cell_type": "code",
   "execution_count": 1,
   "metadata": {
    "collapsed": true
   },
   "outputs": [],
   "source": [
    "import tensorflow as tf\n",
    "import pandas as pd\n",
    "import numpy as np\n",
    "import math"
   ]
  },
  {
   "cell_type": "code",
   "execution_count": 2,
   "metadata": {
    "collapsed": true
   },
   "outputs": [],
   "source": [
    "# all values between 0 and 1\n",
    "file = r'carbon_nanotubes.csv'\n",
    "df = pd.read_csv(file, delimiter=';', header=None, decimal=',', skiprows=1)\n",
    "x_train = df.drop([0,1], axis=1).values"
   ]
  },
  {
   "cell_type": "code",
   "execution_count": 3,
   "metadata": {},
   "outputs": [
    {
     "name": "stdout",
     "output_type": "stream",
     "text": [
      "data shape:  (10721, 6)\n",
      "No of training examples:  10721\n",
      "No of features:  6\n"
     ]
    }
   ],
   "source": [
    "print('data shape: ', x_train.shape)\n",
    "m = x_train.shape[0]\n",
    "n = x_train.shape[1]\n",
    "print('No of training examples: ', m)\n",
    "print('No of features: ', n)"
   ]
  },
  {
   "cell_type": "code",
   "execution_count": 6,
   "metadata": {
    "collapsed": true
   },
   "outputs": [],
   "source": [
    "def random_mini_batch(X, Y, mini_batch_size = None):\n",
    "    '''Created minibatches for feeding into NN. First the dataset if randomized and then mini batches are\n",
    "    made from the randomized set.\n",
    "    \n",
    "    Arguments:\n",
    "    X -- array, shape(m, n)\n",
    "    Y -- array, shape depends on how many classes. If it is binary then it is a vector.\n",
    "    \n",
    "    Return:\n",
    "    mini_batches -- list of tuples which contain arrays.'''\n",
    "    \n",
    "    if mini_batch_size==None:\n",
    "        return print('Need to specify a mini_batch_size.')\n",
    "    else: \n",
    "        m = X.shape[0]\n",
    "        \n",
    "        mini_batches = []\n",
    "         \n",
    "        # shuffle (X, Y)\n",
    "        permutation = list(np.random.permutation(m))\n",
    "        shuffled_X = X[permutation, :]\n",
    "        shuffled_Y = Y[permutation, :]#.reshape(m,1) if this was a label vector of shape(m, 1)\n",
    "        \n",
    "        # Step 2: Partition (shuffled_X, shuffled_Y). Minus the end case.\n",
    "        num_complete_minibatches = math.floor(m/mini_batch_size) # number of mini batches of size mini_batch_size in your partitionning\n",
    "        for k in range(0, num_complete_minibatches):\n",
    "        \n",
    "            mini_batch_X = shuffled_X[k * mini_batch_size: (k + 1) * mini_batch_size, :]\n",
    "            mini_batch_Y = shuffled_Y[k * mini_batch_size: (k + 1) * mini_batch_size, :]\n",
    "        \n",
    "            mini_batch = (mini_batch_X, mini_batch_Y)\n",
    "            mini_batches.append(mini_batch)\n",
    "        \n",
    "        # Handling the end case (last mini-batch < mini_batch_size)\n",
    "        if m % mini_batch_size != 0:\n",
    "            mini_batch_X =shuffled_X[num_complete_minibatches *mini_batch_size ::, :]\n",
    "            mini_batch_Y =shuffled_Y[num_complete_minibatches *mini_batch_size ::, :]\n",
    "            mini_batch = (mini_batch_X, mini_batch_Y)\n",
    "            mini_batches.append(mini_batch)\n",
    "            \n",
    "        return mini_batches"
   ]
  },
  {
   "cell_type": "code",
   "execution_count": 5,
   "metadata": {},
   "outputs": [],
   "source": [
    "# tf.reset_default_graph()\n",
    "layer1 = 5\n",
    "layer2 = 3\n",
    "layer3 = 5\n",
    "layer4 = n\n",
    "\n",
    "initializer = tf.contrib.layers.variance_scaling_initializer() # This is a He initializtion\n",
    "\n",
    "weights = {'W1': tf.get_variable(name='W1', shape=[n, layer1], initializer=initializer),\n",
    "           'W2': tf.get_variable(name='W2', shape=[layer1, layer2], initializer=initializer),\n",
    "           'W3': tf.get_variable(name='W3', shape=[layer2, layer3], initializer=initializer),\n",
    "           'W4': tf.get_variable(name='W4', shape=[layer3, layer4], initializer=initializer)}\n",
    "\n",
    "biases =  {'b1': tf.zeros(shape=[1, layer1], name='b1'),\n",
    "           'b2': tf.zeros(shape=[1, layer2], name='b2'),\n",
    "           'b3': tf.zeros(shape=[1, layer3], name='b3'),\n",
    "           'b4': tf.zeros(shape=[1, layer4], name='b4')}"
   ]
  },
  {
   "cell_type": "code",
   "execution_count": 7,
   "metadata": {
    "collapsed": true
   },
   "outputs": [],
   "source": [
    "def encoder(input_placeholder):\n",
    "    '''Create encoder which outputs the latent vector.\n",
    "    \n",
    "    Arguments:\n",
    "    input_placeholder -- tensor, shape[None, m]\n",
    "    \n",
    "    Return:\n",
    "    latent_vector -- tensor, activation of shape[None, layer2]'''\n",
    "    \n",
    "    # linear -> non-linear\n",
    "    Z1 = tf.add(tf.matmul(input_placeholder, weights['W1']), biases['b1']) # linear\n",
    "    A1 = tf.nn.relu(Z1) # non-linear\n",
    "    \n",
    "    Z2 = tf.add(tf.matmul(A1, weights['W2']), biases['b2'])\n",
    "    latent_vector = tf.nn.relu(Z2)\n",
    "    \n",
    "    return latent_vector"
   ]
  },
  {
   "cell_type": "code",
   "execution_count": 8,
   "metadata": {
    "collapsed": true
   },
   "outputs": [],
   "source": [
    "def decoder(latent_tensor):\n",
    "    '''Decode the encoder.\n",
    "    \n",
    "    Arguments:\n",
    "    latent_vec -- tensor, shape[None, layer2]\n",
    "    \n",
    "    Return:\n",
    "    output_layer -- tensor, shape[None, n]'''\n",
    "    Z3 = tf.add(tf.matmul(latent_tensor, weights['W3']), biases['b3'])\n",
    "    A3 = tf.nn.relu(Z3)\n",
    "    \n",
    "    # Use a sigmoid activation our original data is between 0,1\n",
    "    Z4 = tf.add(tf.matmul(A3, weights['W4']), biases['b4'])\n",
    "    output_layer = tf.nn.sigmoid(Z4)\n",
    "    return output_layer"
   ]
  },
  {
   "cell_type": "code",
   "execution_count": 9,
   "metadata": {},
   "outputs": [
    {
     "name": "stdout",
     "output_type": "stream",
     "text": [
      "epoch 0 has loss of 0.08401456358562036\n",
      "epoch 100 has loss of 0.04163502062480133\n",
      "epoch 200 has loss of 0.03924129687878022\n",
      "epoch 300 has loss of 0.038914895515485\n",
      "epoch 400 has loss of 0.03876366524631717\n",
      "epoch 500 has loss of 0.03865462604416421\n",
      "epoch 600 has loss of 0.038514928555632204\n",
      "epoch 700 has loss of 0.03835406392274133\n",
      "epoch 800 has loss of 0.03814600080431226\n",
      "epoch 900 has loss of 0.03784526514270938\n",
      "epoch 1000 has loss of 0.03766180823994688\n",
      "epoch 1100 has loss of 0.03756432345204324\n",
      "epoch 1200 has loss of 0.0375547479972782\n",
      "epoch 1300 has loss of 0.037507826395063525\n",
      "epoch 1400 has loss of 0.0374849979956466\n",
      "epoch 1500 has loss of 0.03742947638124587\n",
      "epoch 1600 has loss of 0.0374205797147679\n",
      "epoch 1700 has loss of 0.03738746257970134\n",
      "epoch 1800 has loss of 0.037315670445740946\n",
      "epoch 1900 has loss of 0.03734371779733392\n"
     ]
    }
   ],
   "source": [
    "learning_rate = 0.001\n",
    "epochs = 2000\n",
    "mini_batch_size = 128\n",
    "\n",
    "X = tf.placeholder(dtype=tf.float32, shape=[None, n], name='input')\n",
    "\n",
    "encoded_out = encoder(X)\n",
    "reconstruction = decoder(encoded_out)\n",
    "\n",
    "cost = tf.reduce_mean(tf.square(tf.subtract(X, reconstruction)))\n",
    "\n",
    "optimizer = tf.train.AdamOptimizer(learning_rate=learning_rate).minimize(cost)\n",
    "\n",
    "init = tf.global_variables_initializer()\n",
    "\n",
    "losses = []\n",
    "\n",
    "with tf.Session() as sess:\n",
    "    sess.run(init)\n",
    "    \n",
    "    \n",
    "    for epoch in range(epochs):  \n",
    "        epoch_loss = 0\n",
    "        \n",
    "        num_mini_batches = int(m/mini_batch_size)  # No. of mini_batches that have mini_batch size.\n",
    "        \n",
    "        minibatches = random_mini_batch(x_train, x_train, mini_batch_size=mini_batch_size)  # inibatches is a list of tuples.\n",
    "        \n",
    "        for minibatch in minibatches:\n",
    "            \n",
    "            (minibatch_X, _) = minibatch\n",
    "            \n",
    "            _, minibatch_loss = sess.run([optimizer, cost], feed_dict={X: minibatch_X})\n",
    "            \n",
    "            epoch_loss += minibatch_loss/num_mini_batches\n",
    "        \n",
    "        if epoch % 5 == 0:\n",
    "            losses.append(epoch_loss)\n",
    "        if epoch % 100 == 0:\n",
    "            print('epoch {} has loss of {}'.format(epoch, epoch_loss))"
   ]
  },
  {
   "cell_type": "code",
   "execution_count": 10,
   "metadata": {},
   "outputs": [
    {
     "data": {
      "image/png": "[encoded data removed]",
      "text/plain": [
       "<matplotlib.figure.Figure at 0x21802343668>"
      ]
     },
     "metadata": {},
     "output_type": "display_data"
    }
   ],
   "source": [
    "import matplotlib.pyplot as plt\n",
    "import seaborn as sns\n",
    "% matplotlib inline\n",
    "plt.plot(np.arange(0, epochs, 5), losses)\n",
    "plt.ylabel('Loss')\n",
    "plt.xlabel('Epoch')\n",
    "ax=plt.title('Learing Rate = ' + str(learning_rate))"
   ]
  }
 ],
 "metadata": {
  "kernelspec": {
   "display_name": "Python 3",
   "language": "python",
   "name": "python3"
  },
  "language_info": {
   "codemirror_mode": {
    "name": "ipython",
    "version": 3
   },
   "file_extension": ".py",
   "mimetype": "text/x-python",
   "name": "python",
   "nbconvert_exporter": "python",
   "pygments_lexer": "ipython3",
   "version": "3.6.2"
  }
 },
 "nbformat": 4,
 "nbformat_minor": 2
}
